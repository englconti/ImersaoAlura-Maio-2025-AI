{
  "nbformat": 4,
  "nbformat_minor": 0,
  "metadata": {
    "colab": {
      "provenance": [],
      "include_colab_link": true
    },
    "kernelspec": {
      "name": "python3",
      "display_name": "Python 3"
    },
    "language_info": {
      "name": "python"
    }
  },
  "cells": [
    {
      "cell_type": "markdown",
      "metadata": {
        "id": "view-in-github",
        "colab_type": "text"
      },
      "source": [
        "<a href=\"https://colab.research.google.com/github/englconti/ImersaoAlura-Maio-2025-AI/blob/main/Copy_of_Imers%C3%A3o_IA_Alura_%2B_Google_Gemini_Aula_05_Agentes.ipynb\" target=\"_parent\"><img src=\"https://colab.research.google.com/assets/colab-badge.svg\" alt=\"Open In Colab\"/></a>"
      ]
    },
    {
      "cell_type": "code",
      "source": [
        "%pip -q install google-genai"
      ],
      "metadata": {
        "id": "UCCbECexLk_h"
      },
      "execution_count": null,
      "outputs": []
    },
    {
      "cell_type": "code",
      "source": [
        "# Configura a API Key do Google Gemini\n",
        "\n",
        "import os\n",
        "from google.colab import userdata\n",
        "\n",
        "os.environ[\"GOOGLE_API_KEY\"] = userdata.get('GOOGLE_API_KEY')"
      ],
      "metadata": {
        "id": "NfCqHo1tLk8P"
      },
      "execution_count": null,
      "outputs": []
    },
    {
      "cell_type": "code",
      "source": [
        "# Configura o cliente da SDK do Gemini\n",
        "\n",
        "from google import genai\n",
        "\n",
        "client = genai.Client()\n",
        "\n",
        "MODEL_ID = \"gemini-2.0-flash\""
      ],
      "metadata": {
        "id": "bV4w0H5TLk5g"
      },
      "execution_count": null,
      "outputs": []
    },
    {
      "cell_type": "code",
      "source": [
        "# Pergunta ao Gemini uma informação mais recente que seu conhecimento\n",
        "\n",
        "from IPython.display import HTML, Markdown\n",
        "\n",
        "# Perguntar pro modelo quando é a próxima imersão de IA ###############################################\n",
        "response = client.models.generate_content(\n",
        "    model=MODEL_ID,\n",
        "    contents='Quando é a próxima Imersão IA com Google Gemini da Alura?',\n",
        ")\n",
        "\n",
        "\n",
        "# Exibe a resposta na tela\n",
        "display(Markdown(f\"Resposta:\\n {response.text}\"))"
      ],
      "metadata": {
        "id": "HwVP7Xi34Zuw",
        "colab": {
          "base_uri": "https://localhost:8080/",
          "height": 110
        },
        "outputId": "8d44b794-4304-4fba-fe5e-5f9abd4ffae8"
      },
      "execution_count": null,
      "outputs": [
        {
          "output_type": "display_data",
          "data": {
            "text/plain": [
              "<IPython.core.display.Markdown object>"
            ],
            "text/markdown": "Resposta:\n Para saber quando será a próxima Imersão IA com Google Gemini da Alura, a melhor forma é verificar diretamente no site da Alura:\n\n*   **Site da Alura:** Procure na página inicial, na seção de cursos de Inteligência Artificial ou use a ferramenta de busca do site por \"Imersão IA Google Gemini\".\n\nA Alura costuma divulgar as datas e horários das imersões com antecedência em seu site e redes sociais."
          },
          "metadata": {}
        }
      ]
    },
    {
      "cell_type": "code",
      "source": [
        "# Pergunta ao Gemini uma informação utilizando a busca do Google como contexto\n",
        "\n",
        "response = client.models.generate_content(\n",
        "    model=MODEL_ID,\n",
        "    contents='Quando é a próxima Imersão IA com Google Gemini da Alura?',\n",
        "    # Inserir a tool de busca do Google #####################\n",
        "    config = { \"tools\": [{ \"google_search\": {}}] }\n",
        ")\n",
        "\n",
        "# Exibe a resposta na tela\n",
        "display(Markdown(f\"Resposta:\\n {response.text}\"))"
      ],
      "metadata": {
        "id": "yXaZd7iZ4ftw",
        "colab": {
          "base_uri": "https://localhost:8080/",
          "height": 139
        },
        "outputId": "4845d66d-3b60-4f40-e0d6-f7111a220c0d"
      },
      "execution_count": null,
      "outputs": [
        {
          "output_type": "display_data",
          "data": {
            "text/plain": [
              "<IPython.core.display.Markdown object>"
            ],
            "text/markdown": "Resposta:\n A próxima Imersão IA com Google Gemini da Alura acontecerá entre os dias 12 e 16 de maio de 2025. As aulas serão online e gratuitas e, ao final do curso, você receberá um certificado da Alura e do Google. As inscrições podem ser feitas até o dia 11 de maio.\n\nA Imersão IA é voltada para todas as pessoas interessadas em tecnologia e que querem usar IA para otimizar o trabalho e transformar ideias em soluções reais. Não é necessário ter conhecimento prévio para participar. Durante o curso, você aprenderá a criar prompts poderosos, automatizar tarefas e desenvolver um sistema de agentes autônomos que trabalham sozinhos. Você também aprenderá os fundamentos da engenharia de prompts e a criar um chatbot com a API Gemini.\n"
          },
          "metadata": {}
        }
      ]
    },
    {
      "cell_type": "code",
      "source": [
        "# Exibe a busca\n",
        "print(f\"Busca realizada: {response.candidates[0].grounding_metadata.web_search_queries}\")\n",
        "# Exibe as URLs nas quais ele se baseou\n",
        "print(f\"Páginas utilizadas na resposta: {', '.join([site.web.title for site in response.candidates[0].grounding_metadata.grounding_chunks])}\")\n",
        "print()\n",
        "display(HTML(response.candidates[0].grounding_metadata.search_entry_point.rendered_content))"
      ],
      "metadata": {
        "id": "xHSNlTd84heJ",
        "colab": {
          "base_uri": "https://localhost:8080/",
          "height": 117
        },
        "outputId": "9ee74566-b925-4b6e-a5be-dd3755a3763e"
      },
      "execution_count": null,
      "outputs": [
        {
          "output_type": "stream",
          "name": "stdout",
          "text": [
            "Busca realizada: ['Alura Imersão IA com Google Gemini']\n",
            "Páginas utilizadas na resposta: alura.com.br, tecmundo.com.br\n",
            "\n"
          ]
        },
        {
          "output_type": "display_data",
          "data": {
            "text/plain": [
              "<IPython.core.display.HTML object>"
            ],
            "text/html": [
              "<style>\n",
              ".container {\n",
              "  align-items: center;\n",
              "  border-radius: 8px;\n",
              "  display: flex;\n",
              "  font-family: Google Sans, Roboto, sans-serif;\n",
              "  font-size: 14px;\n",
              "  line-height: 20px;\n",
              "  padding: 8px 12px;\n",
              "}\n",
              ".chip {\n",
              "  display: inline-block;\n",
              "  border: solid 1px;\n",
              "  border-radius: 16px;\n",
              "  min-width: 14px;\n",
              "  padding: 5px 16px;\n",
              "  text-align: center;\n",
              "  user-select: none;\n",
              "  margin: 0 8px;\n",
              "  -webkit-tap-highlight-color: transparent;\n",
              "}\n",
              ".carousel {\n",
              "  overflow: auto;\n",
              "  scrollbar-width: none;\n",
              "  white-space: nowrap;\n",
              "  margin-right: -12px;\n",
              "}\n",
              ".headline {\n",
              "  display: flex;\n",
              "  margin-right: 4px;\n",
              "}\n",
              ".gradient-container {\n",
              "  position: relative;\n",
              "}\n",
              ".gradient {\n",
              "  position: absolute;\n",
              "  transform: translate(3px, -9px);\n",
              "  height: 36px;\n",
              "  width: 9px;\n",
              "}\n",
              "@media (prefers-color-scheme: light) {\n",
              "  .container {\n",
              "    background-color: #fafafa;\n",
              "    box-shadow: 0 0 0 1px #0000000f;\n",
              "  }\n",
              "  .headline-label {\n",
              "    color: #1f1f1f;\n",
              "  }\n",
              "  .chip {\n",
              "    background-color: #ffffff;\n",
              "    border-color: #d2d2d2;\n",
              "    color: #5e5e5e;\n",
              "    text-decoration: none;\n",
              "  }\n",
              "  .chip:hover {\n",
              "    background-color: #f2f2f2;\n",
              "  }\n",
              "  .chip:focus {\n",
              "    background-color: #f2f2f2;\n",
              "  }\n",
              "  .chip:active {\n",
              "    background-color: #d8d8d8;\n",
              "    border-color: #b6b6b6;\n",
              "  }\n",
              "  .logo-dark {\n",
              "    display: none;\n",
              "  }\n",
              "  .gradient {\n",
              "    background: linear-gradient(90deg, #fafafa 15%, #fafafa00 100%);\n",
              "  }\n",
              "}\n",
              "@media (prefers-color-scheme: dark) {\n",
              "  .container {\n",
              "    background-color: #1f1f1f;\n",
              "    box-shadow: 0 0 0 1px #ffffff26;\n",
              "  }\n",
              "  .headline-label {\n",
              "    color: #fff;\n",
              "  }\n",
              "  .chip {\n",
              "    background-color: #2c2c2c;\n",
              "    border-color: #3c4043;\n",
              "    color: #fff;\n",
              "    text-decoration: none;\n",
              "  }\n",
              "  .chip:hover {\n",
              "    background-color: #353536;\n",
              "  }\n",
              "  .chip:focus {\n",
              "    background-color: #353536;\n",
              "  }\n",
              "  .chip:active {\n",
              "    background-color: #464849;\n",
              "    border-color: #53575b;\n",
              "  }\n",
              "  .logo-light {\n",
              "    display: none;\n",
              "  }\n",
              "  .gradient {\n",
              "    background: linear-gradient(90deg, #1f1f1f 15%, #1f1f1f00 100%);\n",
              "  }\n",
              "}\n",
              "</style>\n",
              "<div class=\"container\">\n",
              "  <div class=\"headline\">\n",
              "    <svg class=\"logo-light\" width=\"18\" height=\"18\" viewBox=\"9 9 35 35\" fill=\"none\" xmlns=\"http://www.w3.org/2000/svg\">\n",
              "      <path fill-rule=\"evenodd\" clip-rule=\"evenodd\" d=\"M42.8622 27.0064C42.8622 25.7839 42.7525 24.6084 42.5487 23.4799H26.3109V30.1568H35.5897C35.1821 32.3041 33.9596 34.1222 32.1258 35.3448V39.6864H37.7213C40.9814 36.677 42.8622 32.2571 42.8622 27.0064V27.0064Z\" fill=\"#4285F4\"/>\n",
              "      <path fill-rule=\"evenodd\" clip-rule=\"evenodd\" d=\"M26.3109 43.8555C30.9659 43.8555 34.8687 42.3195 37.7213 39.6863L32.1258 35.3447C30.5898 36.3792 28.6306 37.0061 26.3109 37.0061C21.8282 37.0061 18.0195 33.9811 16.6559 29.906H10.9194V34.3573C13.7563 39.9841 19.5712 43.8555 26.3109 43.8555V43.8555Z\" fill=\"#34A853\"/>\n",
              "      <path fill-rule=\"evenodd\" clip-rule=\"evenodd\" d=\"M16.6559 29.8904C16.3111 28.8559 16.1074 27.7588 16.1074 26.6146C16.1074 25.4704 16.3111 24.3733 16.6559 23.3388V18.8875H10.9194C9.74388 21.2072 9.06992 23.8247 9.06992 26.6146C9.06992 29.4045 9.74388 32.022 10.9194 34.3417L15.3864 30.8621L16.6559 29.8904V29.8904Z\" fill=\"#FBBC05\"/>\n",
              "      <path fill-rule=\"evenodd\" clip-rule=\"evenodd\" d=\"M26.3109 16.2386C28.85 16.2386 31.107 17.1164 32.9095 18.8091L37.8466 13.8719C34.853 11.082 30.9659 9.3736 26.3109 9.3736C19.5712 9.3736 13.7563 13.245 10.9194 18.8875L16.6559 23.3388C18.0195 19.2636 21.8282 16.2386 26.3109 16.2386V16.2386Z\" fill=\"#EA4335\"/>\n",
              "    </svg>\n",
              "    <svg class=\"logo-dark\" width=\"18\" height=\"18\" viewBox=\"0 0 48 48\" xmlns=\"http://www.w3.org/2000/svg\">\n",
              "      <circle cx=\"24\" cy=\"23\" fill=\"#FFF\" r=\"22\"/>\n",
              "      <path d=\"M33.76 34.26c2.75-2.56 4.49-6.37 4.49-11.26 0-.89-.08-1.84-.29-3H24.01v5.99h8.03c-.4 2.02-1.5 3.56-3.07 4.56v.75l3.91 2.97h.88z\" fill=\"#4285F4\"/>\n",
              "      <path d=\"M15.58 25.77A8.845 8.845 0 0 0 24 31.86c1.92 0 3.62-.46 4.97-1.31l4.79 3.71C31.14 36.7 27.65 38 24 38c-5.93 0-11.01-3.4-13.45-8.36l.17-1.01 4.06-2.85h.8z\" fill=\"#34A853\"/>\n",
              "      <path d=\"M15.59 20.21a8.864 8.864 0 0 0 0 5.58l-5.03 3.86c-.98-2-1.53-4.25-1.53-6.64 0-2.39.55-4.64 1.53-6.64l1-.22 3.81 2.98.22 1.08z\" fill=\"#FBBC05\"/>\n",
              "      <path d=\"M24 14.14c2.11 0 4.02.75 5.52 1.98l4.36-4.36C31.22 9.43 27.81 8 24 8c-5.93 0-11.01 3.4-13.45 8.36l5.03 3.85A8.86 8.86 0 0 1 24 14.14z\" fill=\"#EA4335\"/>\n",
              "    </svg>\n",
              "    <div class=\"gradient-container\"><div class=\"gradient\"></div></div>\n",
              "  </div>\n",
              "  <div class=\"carousel\">\n",
              "    <a class=\"chip\" href=\"https://vertexaisearch.cloud.google.com/grounding-api-redirect/AbF9wXHd9QLd3_l4sF5MTW9zFBshzRkbqU9fwQRgAamEEtnw9ke--_ywt5tYT48YdCxbFRCWTmJjOcnxii4Iq-S3ZSijZefDOdlgNFPLiuVL7UfhquaOUw3ZbwQgvi_N_SfXwYV5ZhWQHVqJPspm4UWWtGobWSGj2GgA8zV93-wYpdkc9BvEokB8fW-1VW_oF-eJRj1jNgmyu9JjfPCmFY89kaJE9hR0yaT5F291TA==\">Alura Imersão IA com Google Gemini</a>\n",
              "  </div>\n",
              "</div>\n"
            ]
          },
          "metadata": {}
        }
      ]
    },
    {
      "cell_type": "code",
      "source": [
        "# Instalar Framework ADK de agentes do Google ################################################\n",
        "%pip install -q google-adk\n",
        "\n"
      ],
      "metadata": {
        "id": "hvZ3UnPI4jhJ"
      },
      "execution_count": null,
      "outputs": []
    },
    {
      "cell_type": "code",
      "execution_count": null,
      "metadata": {
        "id": "aePV2bdfDeoW"
      },
      "outputs": [],
      "source": [
        "from google.adk.agents import Agent\n",
        "from google.adk.runners import Runner\n",
        "from google.adk.sessions import InMemorySessionService\n",
        "from google.adk.tools import google_search\n",
        "from google.genai import types  # Para criar conteúdos (Content e Part)\n",
        "from datetime import date\n",
        "import textwrap # Para formatar melhor a saída de texto\n",
        "from IPython.display import display, Markdown # Para exibir texto formatado no Colab\n",
        "import requests # Para fazer requisições HTTP\n",
        "import warnings\n",
        "\n",
        "warnings.filterwarnings(\"ignore\")"
      ]
    },
    {
      "cell_type": "code",
      "source": [
        "# Função auxiliar que envia uma mensagem para um agente via Runner e retorna a resposta final\n",
        "def call_agent(agent: Agent, message_text: str) -> str:\n",
        "    session_service = InMemorySessionService()\n",
        "\n",
        "    # Cria uma nova sessão (você pode personalizar os IDs conforme necessário)\n",
        "    session = session_service.create_session(app_name=agent.name, user_id=\"user1\", session_id=\"session1\")\n",
        "\n",
        "    # Cria um Runner para o agente\n",
        "    runner = Runner(agent=agent, app_name=agent.name, session_service=session_service)\n",
        "\n",
        "    # Cria o conteúdo da mensagem de entrada\n",
        "    content = types.Content(role=\"user\", parts=[types.Part(text=message_text)])\n",
        "\n",
        "    final_response = \"\"\n",
        "\n",
        "    # Itera assincronamente pelos eventos retornados durante a execução do agente\n",
        "    for event in runner.run(user_id=\"user1\", session_id=\"session1\", new_message=content):\n",
        "        if event.is_final_response():\n",
        "          for part in event.content.parts:\n",
        "            if part.text is not None:\n",
        "              final_response += part.text\n",
        "              final_response += \"\\n\"\n",
        "    return final_response"
      ],
      "metadata": {
        "id": "_xP4lWhsS5ko"
      },
      "execution_count": null,
      "outputs": []
    },
    {
      "cell_type": "code",
      "source": [
        "# Função auxiliar para exibir texto formatado em Markdown no Colab\n",
        "def to_markdown(text):\n",
        "  text = text.replace('•', '  *')\n",
        "  return Markdown(textwrap.indent(text, '> ', predicate=lambda _: True))"
      ],
      "metadata": {
        "id": "8dosiodaxfFR"
      },
      "execution_count": null,
      "outputs": []
    },
    {
      "cell_type": "code",
      "source": [
        "##########################################\n",
        "# --- Agente 1: Buscador de Notícias --- #\n",
        "##########################################\n",
        "def agente_buscador(topico, data_de_hoje):\n",
        "    buscador = Agent(\n",
        "        name=\"agente_buscador\",\n",
        "        model=\"gemini-2.0-flash\",\n",
        "        instruction=\"\"\"\n",
        "        Atue como um assistente de pesquisa. Sua tarefa e usar a ferramenta de busca do google (google_search) para recuperar as ultimas noticias de lancamentos muito relevantes sobre o topico abaixo.\n",
        "        Foque em no maximo 5 lancamentos relevantes, com base na quantidade e entusiasmo das noticias sobre ele.\n",
        "        Se um tema tiver poucas noticias ou poucas reacoes entusiasmadas, e possivel que ele nao seja tao relevante assim e pode ser substituido por outro que tenha mais.\n",
        "        Esses lancamentos relevantes devem ser atuais, de no maximo um mes antes da data de hoje.\n",
        "        \"\"\",\n",
        "        description=\"Agente para buscar informacoes no google\",\n",
        "        tools=[google_search]\n",
        "    )\n",
        "    entrada_do_agente_buscador = f\"Tópico: {topico}\\nData de hoje: {data_de_hoje}\"\n",
        "    lancamentos = call_agent(buscador, entrada_do_agente_buscador)\n",
        "\n",
        "    return lancamentos\n"
      ],
      "metadata": {
        "id": "o8bqIfi_DyH8"
      },
      "execution_count": null,
      "outputs": []
    },
    {
      "cell_type": "code",
      "source": [
        "################################################\n",
        "# --- Agente 2: Planejador de posts --- #\n",
        "################################################\n",
        "def agente_planejador(topico, lancamentos_buscados):\n",
        "    planejador = Agent(\n",
        "        name=\"agente_planejador\",\n",
        "        model=\"gemini-2.0-flash\",\n",
        "        instruction=\"\"\"\n",
        "        Voce e um planejador de conteudo e especialista em redes sociais.\n",
        "        Com base na lista de lancamentos mais recentes e relevantes buscador, voce deve:\n",
        "        Usar a ferramente de busca do Google (google_search) para criar um plano sobre quais sao os pontos mais relevantes que poderiamos abordar em um post sobre cada um deles.\n",
        "        Voce tambem pode usar o (google_search) para encontrar mais informacoes sobre os temas e aprofundar.\n",
        "        Ao final, voce ira escolher o tema mais relevante entre eles com base nas suas pesquisas e retornar esse tema, seus pontos mais relevantes, e um plano com os assuntos a serem abordados.\n",
        "        \"\"\",\n",
        "        description=\"Agente que planeja posts\",\n",
        "        tools=[google_search]\n",
        "    )\n",
        "\n",
        "    entrada_do_agente_planejador = f\"Tópico:{topico}\\nLançamentos buscados: {lancamentos_buscados}\"\n",
        "    plano_do_post = call_agent(planejador, entrada_do_agente_planejador)\n",
        "\n",
        "    return plano_do_post"
      ],
      "metadata": {
        "id": "y3VO1uo5_ghO"
      },
      "execution_count": null,
      "outputs": []
    },
    {
      "cell_type": "code",
      "source": [
        "######################################\n",
        "# --- Agente 3: Redator do Post --- #\n",
        "######################################\n",
        "def agente_redator(topico, plano_de_post):\n",
        "    redator = Agent(\n",
        "        name=\"agente_redator\",\n",
        "        model=\"gemini-2.0-flash\",\n",
        "        instruction=\"\"\"\n",
        "            Você é um Redator Criativo especializado em criar posts virais para redes sociais.\n",
        "            Você escreve posts para a empresa Alura, a maior escola online de tecnologia do Brasil.\n",
        "            Utilize o tema fornecido no plano de post e os pontos mais relevantes fornecidos e, com base nisso,\n",
        "            escreva um rascunho de post para Instagram sobre o tema indicado.\n",
        "            O post deve ser engajador, informativo, com linguagem simples e incluir 2 a 4 hashtags no final.\n",
        "            \"\"\",\n",
        "        description=\"Agente redator de posts engajadores para Instagram\"\n",
        "    )\n",
        "    entrada_do_agente_redator = f\"Tópico: {topico}\\nPlano de post: {plano_de_post}\"\n",
        "    rascunho = call_agent(redator, entrada_do_agente_redator)\n",
        "\n",
        "    return rascunho"
      ],
      "metadata": {
        "id": "uOqlg2TRLVh1"
      },
      "execution_count": null,
      "outputs": []
    },
    {
      "cell_type": "code",
      "source": [
        "##########################################\n",
        "# --- Agente 4: Revisor de Qualidade --- #\n",
        "##########################################\n",
        "def agente_revisor(topico, rascunho_gerado):\n",
        "    revisor = Agent(\n",
        "        name=\"agente_revisor\",\n",
        "        model=\"gemini-2.0-flash\",\n",
        "        instruction=\"\"\"\n",
        "            Você é um Editor e Revisor de Conteúdo meticuloso, especializado em posts para redes sociais, com foco no Instagram.\n",
        "            Por ter um público jovem, entre 18 e 30 anos, use um tom de escrita adequado.\n",
        "            Revise o rascunho de post de Instagram abaixo sobre o tópico indicado, verificando clareza, concisão, correção e tom.\n",
        "            Se o rascunho estiver bom, responda apenas 'O rascunho está ótimo e pronto para publicar!'.\n",
        "            Caso haja problemas, aponte-os e sugira melhorias.\n",
        "            \"\"\",\n",
        "        description=\"Agente revisor de post para redes sociais.\"\n",
        "    )\n",
        "    entrada_do_agente_revisor = f\"Tópico: {topico}\\nRascunho: {rascunho_gerado}\"\n",
        "    texto_revisado = call_agent(revisor, entrada_do_agente_revisor)\n",
        "\n",
        "    return texto_revisado"
      ],
      "metadata": {
        "id": "_aTb1SdkLeT6"
      },
      "execution_count": null,
      "outputs": []
    },
    {
      "cell_type": "code",
      "source": [
        "data_de_hoje = date.today().strftime(\"%d/%m/%Y\")\n",
        "\n",
        "print(\"🚀 Iniciando o Sistema de Criação de Posts para Instagram com 4 Agentes 🚀\")\n",
        "\n",
        "# --- Obter o Tópico do Usuário ---\n",
        "topico = input(\"❓ Por favor, digite o TÓPICO sobre o qual você quer criar o post de tendências: \")\n",
        "\n",
        "# Inserir lógica do sistema de agentes ################################################\n",
        "if not topico:\n",
        "  print(\"Voce nao digitou o topico!!\")\n",
        "else:\n",
        "  print(f\"Maravilha! Vamos fazer o trabalho do sobre o topico {topico}\")\n",
        "\n",
        "  lancamentos_buscados = agente_buscador(topico, data_de_hoje)\n",
        "  print(\"] === Resultados buscados ===>\")\n",
        "  display(to_markdown(lancamentos_buscados))\n",
        "  # print(to_markdown(lancamentos_buscados))\n",
        "\n",
        "  plano_de_post = agente_planejador(topico, lancamentos_buscados)\n",
        "  print(\"] === Plano ===>\")\n",
        "  display(to_markdown(plano_de_post))\n",
        "  print(\"==============================\")\n",
        "\n",
        "  rascunho_de_post = agente_redator(topico, plano_de_post)\n",
        "  print(\"] === Rascunho ===>\")\n",
        "  display(to_markdown(rascunho_de_post))\n",
        "  print(\"==============================\")\n",
        "\n",
        "  post_final = agente_revisor(topico, rascunho_de_post)\n",
        "  print(\"] === Proposta final ===>\")\n",
        "  display(to_markdown(post_final))\n",
        "  print(\"==============================\")\n",
        "\n",
        "\n",
        "\n"
      ],
      "metadata": {
        "id": "630ummxz4myx",
        "colab": {
          "base_uri": "https://localhost:8080/",
          "height": 1000
        },
        "outputId": "bb7a6864-de7a-4d64-a47e-79ac894e0dae"
      },
      "execution_count": null,
      "outputs": [
        {
          "output_type": "stream",
          "name": "stdout",
          "text": [
            "🚀 Iniciando o Sistema de Criação de Posts para Instagram com 4 Agentes 🚀\n",
            "❓ Por favor, digite o TÓPICO sobre o qual você quer criar o post de tendências: FORRÓ\n",
            "Maravilha! Vamos fazer o trabalho do sobre o topico FORRÓ\n",
            "] === Resultados buscados ===>\n"
          ]
        },
        {
          "output_type": "display_data",
          "data": {
            "text/plain": [
              "<IPython.core.display.Markdown object>"
            ],
            "text/markdown": "> Para encontrar os lançamentos mais relevantes de forró no último mês, vou realizar algumas buscas no Google sobre lançamentos recentes e notícias do gênero.\n> \n> \n> Com base nas minhas buscas, aqui estão alguns dos lançamentos e eventos de forró mais relevantes e recentes (considerando a data de hoje, 16 de maio de 2025):\n> \n> 1.  **Lançamentos Musicais:**\n>  *   **Singles e Álbuns:** Há diversas playlists e seleções de forró sendo lançadas em maio de 2025. Algumas destacam músicas de artistas populares como Wesley Safadão, Natanzinho Lima, Mari Fernandez e Xand Avião.\n>  *   **Colaborações:** Lucas Aboiador e Tarcísio do Acordeon lançaram o single colaborativo \"Maior Riqueza\". Zé Vaqueiro e Xand Avião uniram-se no single \"Que Pancada de Mulher\".\n> 2.  **Festivais e Eventos:**\n>  *   **Forró da Advocacia 2025:** O evento aconteceu em 10 de maio no Centro de Convenções de Sergipe, com shows de Aline Souza, Danielzinho JR, Kátia Cilene e Guilherme Ferri.\n>  *   **Festivais Internacionais:** Vários festivais de forró estão programados para ocorrer em diversas cidades da Europa ao longo de maio e junho de 2025.\n>  *   **Arraiá do Povo e Vila do Forró:** A Fundação de Cultura e Arte Aperipê de Sergipe (Funcap) divulgou os estabelecimentos selecionados para bares e restaurantes nestes eventos.\n>  *   **Forró no Parque:** O evento teve edições em março e abril de 2025 em Salvador, Bahia.\n>  *   **Forró Xperience 2025:** Festival que ocorrerá em Leisnig, Alemanha, entre 26 e 29 de junho de 2025.\n> 3.  **Outros Destaques:**\n>  *   **Concurso Rei e Rainha do País do Forró 2025:** O Governo de Sergipe abriu inscrições para o concurso, com a coroação dos vencedores marcada para 29 de maio.\n>  *   **Planeta Forró:** O site continua a ser uma fonte de notícias sobre o mundo do forró, destacando lançamentos e eventos.\n> \n> É importante notar que a popularidade de artistas como Wesley Safadão, Mari Fernandez, Nattan e Xand Avião continua em alta, com suas músicas frequentemente incluídas em playlists de \"paredão\" e seleções de maiores sucessos.\n> \n"
          },
          "metadata": {}
        },
        {
          "output_type": "stream",
          "name": "stdout",
          "text": [
            "] === Plano ===>\n"
          ]
        },
        {
          "output_type": "display_data",
          "data": {
            "text/plain": [
              "<IPython.core.display.Markdown object>"
            ],
            "text/markdown": "> Com base nas informações fornecidas, podemos criar um plano de conteúdo focado nos seguintes temas de forró:\n> \n> \n> Com base nas informações e pesquisas, o tema mais relevante para um post de redes sociais é:\n> \n> **Tema:** Festivais de Forró na Europa em 2025\n> \n> **Pontos Relevantes:**\n> \n> *   **Crescimento e Popularidade:** O aumento do número de festivais de forró na Europa demonstra o crescente interesse e a expansão da cultura do forró para além do Brasil.\n> *   **Diversidade Geográfica:** Festivais acontecem em diversos países, como Alemanha, Portugal, Espanha, França, Suíça, entre outros, mostrando a ampla aceitação do ritmo.\n> *   **Variedade de Festivais:** Há festivais de diferentes estilos e durações, desde fins de semana temáticos até eventos mais longos, oferecendo opções para todos os gostos.\n> *   **Atrações:** Muitos festivais contam com a presença de renomados artistas brasileiros, como Mestrinho e Nonato Lima, além de professores de dança e músicos locais.\n> *   **Impacto Cultural:** Os festivais promovem a cultura brasileira, especialmente a nordestina, no exterior, gerando intercâmbio cultural e fortalecendo a identidade do forró.\n> \n> **Plano de Conteúdo:**\n> \n> 1.  **Introdução:**\n>     *   Começar com uma chamada chamativa sobre a expansão do forró na Europa e o grande número de festivais acontecendo em 2025.\n>     *   Explicar brevemente o que é o forró e sua importância cultural no Brasil.\n> 2.  **Destaque dos Principais Festivais:**\n>     *   Mencionar alguns dos festivais mais populares e tradicionais, como o Forró Xperience (Alemanha), o Baião in Lisboa Festival (Portugal), e outros.\n>     *   Incluir informações sobre datas, locais e atrações confirmadas, como a presença de artistas brasileiros renomados.\n> 3.  **Impacto e Benefícios dos Festivais:**\n>     *   Discutir como os festivais contribuem para a divulgação da cultura brasileira e o intercâmbio cultural entre Brasil e Europa.\n>     *   Mencionar como os festivais geram oportunidades para artistas, professores de dança e músicos de forró.\n> 4.  **Chamada para Ação:**\n>     *   Incentivar os seguidores a conferirem a lista completa de festivais e planejarem suas viagens.\n>     *   Criar um senso de comunidade, convidando os seguidores que já foram a festivais de forró na Europa a compartilharem suas experiências nos comentários.\n> 5.  **Conteúdo Visual:**\n>     *   Utilizar fotos e vídeos de edições anteriores dos festivais, mostrando a animação e a energia dos eventos.\n>     *   Criar um design atraente e informativo para o post, com cores vibrantes e fontes legíveis.\n> \n> Este plano de conteúdo visa engajar o público interessado em forró, tanto no Brasil quanto na Europa, e promover a cultura brasileira através da divulgação dos festivais europeus.\n> \n"
          },
          "metadata": {}
        },
        {
          "output_type": "stream",
          "name": "stdout",
          "text": [
            "==============================\n",
            "] === Rascunho ===>\n"
          ]
        },
        {
          "output_type": "display_data",
          "data": {
            "text/plain": [
              "<IPython.core.display.Markdown object>"
            ],
            "text/markdown": "> ## Rascunho de Post para Instagram:\n> \n> 🎶 Prepare o chapéu de couro e a fivela porque o forró tá dominando a Europa em 2025! 🎶\n> \n> É isso mesmo, gente! O ritmo que embala o Brasil tá conquistando cada vez mais corações europeus, e a prova disso é a explosão de festivais de forró que vão rolar por lá no ano que vem. 💃🕺\n> \n> Já marca na agenda: tem Forró Xperience na Alemanha, Baião in Lisboa Festival em Portugal e MUITO mais! 🌍 Prepare-se para dançar agarradinho ao som de Mestrinho, Nonato Lima e outros artistas incríveis que vão botar todo mundo pra xaxar!\n> \n> E não é só música, viu? Esses festivais são um verdadeiro intercâmbio cultural, unindo brasileiros e europeus na paixão pelo forró, fortalecendo nossa cultura e criando momentos inesquecíveis. 🥰\n> \n> E aí, já foi em algum festival de forró na Europa? Conta pra gente nos comentários qual foi a sua experiência! 👇 E se ainda não foi, corre pro site da Alura (link na bio 😉) pra conferir a lista completa dos festivais e planejar sua viagem!\n> \n> Vem forrozear com a gente! 🔥\n> \n> #ForróNaEuropa #Alura #CulturaBrasileira #FestivaisDeForró\n> \n"
          },
          "metadata": {}
        },
        {
          "output_type": "stream",
          "name": "stdout",
          "text": [
            "==============================\n",
            "] === Proposta final ===>\n"
          ]
        },
        {
          "output_type": "display_data",
          "data": {
            "text/plain": [
              "<IPython.core.display.Markdown object>"
            ],
            "text/markdown": "> O rascunho está ótimo e pronto para publicar!\n> \n"
          },
          "metadata": {}
        },
        {
          "output_type": "stream",
          "name": "stdout",
          "text": [
            "==============================\n"
          ]
        }
      ]
    }
  ]
}